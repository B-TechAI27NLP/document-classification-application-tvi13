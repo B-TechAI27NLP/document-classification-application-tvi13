{
 "cells": [
  {
   "cell_type": "markdown",
   "metadata": {},
   "source": [
    "## Text Classification"
   ]
  },
  {
   "cell_type": "code",
   "execution_count": 1,
   "metadata": {},
   "outputs": [],
   "source": [
    "def count_freq(words):\n",
    "    hc=['healthcare', 'hospital', 'medical', 'patient', 'doctor', 'nurse', 'clinic', 'medicine', 'health']\n",
    "    fn=['financial', 'finance', 'bank', 'investment', 'money', 'economy', 'market', 'stocks', 'fund']\n",
    "    tech=['technology', 'software', 'digital', 'ai', 'artificial intelligence', 'code', 'cybersecurity', 'innovation', 'tech', 'data']\n",
    "    edu=['education', 'school', 'university', 'college', 'student', 'learning', 'academic', 'classroom', 'professor']\n",
    "    trvl=['travel', 'holiday', 'vacation', 'trip', 'destination', 'explore', 'tourism', 'journey', 'airport']\n",
    "    word_freq={}\n",
    "    for word in words:\n",
    "        word = word.lower()\n",
    "        if word in word_freq:\n",
    "            word_freq[word]+=1\n",
    "        else:\n",
    "            word_freq[word]=1\n",
    "    words_lower=[w.lower() for w in words]\n",
    "\n",
    "    if any(word in hc for word in words):\n",
    "        print(\"Health Care\")\n",
    "    if any(word in fn for word in words):\n",
    "        print(\"Financial\")\n",
    "    if any(keyword in words_lower for keyword in tech):\n",
    "        print(\"Technology\")\n",
    "    if any(keyword in words_lower for keyword in edu):\n",
    "        print(\"Education\")\n",
    "    if any(keyword in words_lower for keyword in trvl):\n",
    "        print(\"Travel\")\n",
    "\n",
    "    return word_freq"
   ]
  },
  {
   "cell_type": "code",
   "execution_count": 3,
   "metadata": {},
   "outputs": [
    {
     "name": "stdout",
     "output_type": "stream",
     "text": [
      "Travel\n",
      "{'our': 3, 'recent': 1, 'holiday': 1, 'to': 3, 'the': 4, 'coastal': 1, 'destination': 1, 'was': 3, 'absolutely': 1, 'breathtaking.': 1, 'we': 2, 'began': 1, 'journey': 1, 'by': 1, 'flying': 1, 'into': 1, 'a': 3, 'bustling': 1, 'airport,': 1, 'where': 1, 'excitement': 1, 'of': 1, 'exploreing': 1, 'new': 1, 'places': 1, 'truly': 1, 'began.': 1, 'every': 1, 'day': 1, 'an': 1, 'adventure,': 1, 'from': 2, 'hiking': 1, 'scenic': 1, 'trails': 1, 'discovering': 1, 'charming': 1, 'local': 1, 'markets.': 1, 'spent': 1, 'most': 1, 'evenings': 1, 'enjoying': 1, 'sunset': 1, 'hotel': 1, 'balcony,': 1, 'planning': 1, 'next': 1, \"day's\": 1, 'trip': 1, 'nearby': 1, 'historical': 1, 'sites.': 1, 'this': 1, 'vacation': 1, 'perfect': 1, 'escape,': 1, 'true': 1, 'tourism': 1, 'delight.': 1}\n"
     ]
    }
   ],
   "source": [
    "text1=input(\"Enter your text: \")\n",
    "text1=text1.split(\" \")\n",
    "print(count_freq(text1))"
   ]
  },
  {
   "cell_type": "code",
   "execution_count": null,
   "metadata": {},
   "outputs": [],
   "source": []
  }
 ],
 "metadata": {
  "kernelspec": {
   "display_name": "base",
   "language": "python",
   "name": "python3"
  },
  "language_info": {
   "codemirror_mode": {
    "name": "ipython",
    "version": 3
   },
   "file_extension": ".py",
   "mimetype": "text/x-python",
   "name": "python",
   "nbconvert_exporter": "python",
   "pygments_lexer": "ipython3",
   "version": "3.11.5"
  }
 },
 "nbformat": 4,
 "nbformat_minor": 2
}
